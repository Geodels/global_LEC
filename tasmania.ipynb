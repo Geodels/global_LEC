{
 "cells": [
  {
   "cell_type": "code",
   "execution_count": 1,
   "metadata": {},
   "outputs": [],
   "source": [
    "import meshio\n",
    "import numpy as np\n",
    "from multiprocessing import Pool\n",
    "import time\n",
    "\n",
    "from ugs import *"
   ]
  },
  {
   "cell_type": "code",
   "execution_count": 2,
   "metadata": {},
   "outputs": [],
   "source": [
    "infile = \"australia/data/TAS.vtk\"\n",
    "outfile = \"costed_tas.vtk\"\n",
    "mesh = meshio.read(infile)\n",
    "\n",
    "max_distance = 250000"
   ]
  },
  {
   "cell_type": "code",
   "execution_count": 3,
   "metadata": {},
   "outputs": [],
   "source": [
    "# We need to define a way to calculate cost\n",
    "def travel_cost(mesh, current, _next):\n",
    "    # The travel_cost can be any function, including just the distance.\n",
    "    # Here, we exagerate the elevation difference, to make changing elevation more costly\n",
    "    if current == _next:\n",
    "        return 0\n",
    "    \n",
    "    z_scaling = 100.  # 100. is a random number to pick, but has quite a big impact on the resulting paths.\n",
    "    \n",
    "    new_current = np.append(mesh.points[current][:2], mesh.point_data['Z'][current] * z_scaling)\n",
    "    new_next    = np.append(mesh.points[_next][:2],   mesh.point_data['Z'][_next]   * z_scaling)\n",
    "    \n",
    "    return int(np.linalg.norm(new_current - new_next))  # return as Int, just for niceness"
   ]
  },
  {
   "cell_type": "markdown",
   "metadata": {},
   "source": [
    "## Prepare for parallel execution\n",
    "\n",
    "We want to use a parallel map function to calculate the cost for all points. We can make this easier by 'baking in' the parameters of a function we know, and leave only the `starting point` as a variable."
   ]
  },
  {
   "cell_type": "code",
   "execution_count": 4,
   "metadata": {},
   "outputs": [],
   "source": [
    "from functools import partial\n",
    "\n",
    "# We bake in the mesh and travel_cost function into the get_from_point function\n",
    "get_from_point_in_mesh = partial(get_from_point, mesh = mesh, travel_cost_function = travel_cost, max_distance = max_distance)"
   ]
  },
  {
   "cell_type": "code",
   "execution_count": 5,
   "metadata": {},
   "outputs": [
    {
     "name": "stdout",
     "output_type": "stream",
     "text": [
      "(2087, 0)\n"
     ]
    }
   ],
   "source": [
    "# Now we can use the get_from_point function with only a point ID as a parameter, by going via the new get_from_point_in_mesh function\n",
    "# Here we do a test, and see the output format: (point, total cost of all paths to that point)\n",
    "print get_from_point_in_mesh(2087)"
   ]
  },
  {
   "cell_type": "markdown",
   "metadata": {},
   "source": [
    "## Prepare input data\n",
    "\n",
    "We don't want to calculate the LEC of a point below sea-level, so here we find all the points above sea-level, so they can be used as starting points."
   ]
  },
  {
   "cell_type": "code",
   "execution_count": 6,
   "metadata": {},
   "outputs": [],
   "source": [
    "points_above_sealevel = np.nonzero(mesh.point_data['Z'] >= 0)[0][::-1]"
   ]
  },
  {
   "cell_type": "code",
   "execution_count": 7,
   "metadata": {},
   "outputs": [
    {
     "name": "stdout",
     "output_type": "stream",
     "text": [
      "Total starting points available:  1093\n"
     ]
    }
   ],
   "source": [
    "print \"Total starting points available: \", points_above_sealevel.shape[0]"
   ]
  },
  {
   "cell_type": "code",
   "execution_count": 8,
   "metadata": {
    "scrolled": false
   },
   "outputs": [
    {
     "name": "stdout",
     "output_type": "stream",
     "text": [
      "From  0  to  20  took  20.3182940483 seconds, starting with point 1233 . Percent complete:  1.82982616651\n",
      "From  20  to  40  took  21.2341079712 seconds, starting with point 1213 . Percent complete:  3.65965233303\n",
      "From  40  to  60  took  19.9485881329 seconds, starting with point 1193 . Percent complete:  5.48947849954\n",
      "From  60  to  80  took  21.0873069763 seconds, starting with point 1173 . Percent complete:  7.31930466606\n",
      "From  80  to  100  took  19.5123109818 seconds, starting with point 1153 . Percent complete:  9.14913083257\n",
      "From  100  to  120  took  21.1051311493 seconds, starting with point 1133 . Percent complete:  10.9789569991\n",
      "From  120  to  140  took  23.2081868649 seconds, starting with point 1113 . Percent complete:  12.8087831656\n",
      "From  140  to  160  took  21.9765648842 seconds, starting with point 1093 . Percent complete:  14.6386093321\n",
      "From  160  to  180  took  20.0348408222 seconds, starting with point 1073 . Percent complete:  16.4684354986\n",
      "From  180  to  200  took  26.6252610683 seconds, starting with point 1053 . Percent complete:  18.2982616651\n",
      "From  200  to  220  took  23.0439751148 seconds, starting with point 1033 . Percent complete:  20.1280878317\n",
      "From  220  to  240  took  23.699518919 seconds, starting with point 1013 . Percent complete:  21.9579139982\n",
      "From  240  to  260  took  16.9256331921 seconds, starting with point 993 . Percent complete:  23.7877401647\n",
      "From  260  to  280  took  9.23024106026 seconds, starting with point 972 . Percent complete:  25.6175663312\n",
      "From  280  to  300  took  9.10668802261 seconds, starting with point 952 . Percent complete:  27.4473924977\n",
      "From  300  to  320  took  9.30663895607 seconds, starting with point 932 . Percent complete:  29.2772186642\n",
      "From  320  to  340  took  9.64037299156 seconds, starting with point 910 . Percent complete:  31.1070448307\n",
      "From  340  to  360  took  8.69518995285 seconds, starting with point 890 . Percent complete:  32.9368709973\n",
      "From  360  to  380  took  8.98712086678 seconds, starting with point 869 . Percent complete:  34.7666971638\n",
      "From  380  to  400  took  8.82297897339 seconds, starting with point 849 . Percent complete:  36.5965233303\n",
      "From  400  to  420  took  10.1458439827 seconds, starting with point 829 . Percent complete:  38.4263494968\n",
      "From  420  to  440  took  10.0640070438 seconds, starting with point 808 . Percent complete:  40.2561756633\n",
      "From  440  to  460  took  10.2618980408 seconds, starting with point 787 . Percent complete:  42.0860018298\n",
      "From  460  to  480  took  8.3925549984 seconds, starting with point 765 . Percent complete:  43.9158279963\n",
      "From  480  to  500  took  9.97492098808 seconds, starting with point 744 . Percent complete:  45.7456541629\n",
      "From  500  to  520  took  9.15405106544 seconds, starting with point 723 . Percent complete:  47.5754803294\n",
      "From  520  to  540  took  10.8806970119 seconds, starting with point 703 . Percent complete:  49.4053064959\n",
      "From  540  to  560  took  7.64643502235 seconds, starting with point 683 . Percent complete:  51.2351326624\n",
      "From  560  to  580  took  9.62511515617 seconds, starting with point 662 . Percent complete:  53.0649588289\n",
      "From  580  to  600  took  8.17937898636 seconds, starting with point 641 . Percent complete:  54.8947849954\n",
      "From  600  to  620  took  8.99648284912 seconds, starting with point 620 . Percent complete:  56.7246111619\n",
      "From  620  to  640  took  9.43074893951 seconds, starting with point 599 . Percent complete:  58.5544373285\n",
      "From  640  to  660  took  9.2278740406 seconds, starting with point 578 . Percent complete:  60.384263495\n",
      "From  660  to  680  took  10.1109509468 seconds, starting with point 557 . Percent complete:  62.2140896615\n",
      "From  680  to  700  took  10.2266438007 seconds, starting with point 536 . Percent complete:  64.043915828\n",
      "From  700  to  720  took  8.70397210121 seconds, starting with point 515 . Percent complete:  65.8737419945\n",
      "From  720  to  740  took  9.94884800911 seconds, starting with point 495 . Percent complete:  67.703568161\n",
      "From  740  to  760  took  9.96515607834 seconds, starting with point 475 . Percent complete:  69.5333943275\n",
      "From  760  to  780  took  9.16027402878 seconds, starting with point 455 . Percent complete:  71.3632204941\n",
      "From  780  to  800  took  9.26070904732 seconds, starting with point 435 . Percent complete:  73.1930466606\n",
      "From  800  to  820  took  10.0674290657 seconds, starting with point 415 . Percent complete:  75.0228728271\n",
      "From  820  to  840  took  9.96902608871 seconds, starting with point 394 . Percent complete:  76.8526989936\n",
      "From  840  to  860  took  10.402793169 seconds, starting with point 374 . Percent complete:  78.6825251601\n",
      "From  860  to  880  took  10.0418009758 seconds, starting with point 353 . Percent complete:  80.5123513266\n",
      "From  880  to  900  took  9.02206516266 seconds, starting with point 331 . Percent complete:  82.3421774931\n",
      "From  900  to  920  took  8.97378611565 seconds, starting with point 311 . Percent complete:  84.1720036597\n",
      "From  920  to  940  took  9.89948582649 seconds, starting with point 291 . Percent complete:  86.0018298262\n",
      "From  940  to  960  took  9.12975287437 seconds, starting with point 271 . Percent complete:  87.8316559927\n",
      "From  960  to  980  took  9.76197504997 seconds, starting with point 251 . Percent complete:  89.6614821592\n",
      "From  980  to  1000  took  9.74058294296 seconds, starting with point 231 . Percent complete:  91.4913083257\n",
      "From  1000  to  1020  took  9.93586087227 seconds, starting with point 211 . Percent complete:  93.3211344922\n",
      "From  1020  to  1040  took  8.350025177 seconds, starting with point 190 . Percent complete:  95.1509606587\n",
      "From  1040  to  1060  took  10.022028923 seconds, starting with point 170 . Percent complete:  96.9807868253\n",
      "From  1060  to  1080  took  11.6208310127 seconds, starting with point 150 . Percent complete:  98.8106129918\n",
      "From  1080  to  1092  took  5.04796099663 seconds, starting with point 130 . Percent complete:  99.9085086917\n"
     ]
    }
   ],
   "source": [
    "# Output data variables\n",
    "all_costs = []\n",
    "mesh.point_data['cost'] = np.zeros_like(mesh.point_data['Z'])\n",
    "\n",
    "# For parallel execution, we chunk the data up into increments (inc), so we can monitor the progress\n",
    "start = 0\n",
    "inc = 20\n",
    "stop = inc\n",
    "\n",
    "# Run on 11 CPUs\n",
    "p = Pool(11)\n",
    "\n",
    "while start <  points_above_sealevel.shape[0]-1:\n",
    "    start_time = time.time()\n",
    "    # Here we use a parallel map function to send out the chunk across the CPUs in the Pool\n",
    "    costs = p.map(get_from_point_in_mesh, points_above_sealevel[start:stop])\n",
    "    print \"From \", start, \" to \", stop, \" took \", time.time() - start_time, \"seconds, starting with point\", points_above_sealevel[start], \". Percent complete: \", 100*(float(stop)/points_above_sealevel.shape[0])\n",
    "    \n",
    "    # Save the data\n",
    "    all_costs.extend(costs)\n",
    "    \n",
    "    # Write out data progressively, so we can see progress in Paraview\n",
    "    for i in all_costs:\n",
    "        mesh.point_data['cost'][i[0]] = i[1]\n",
    "    meshio.write(outfile, mesh)\n",
    "    \n",
    "    # move to the next chunk of data\n",
    "    start += inc\n",
    "    stop += inc\n",
    "    if stop >= points_above_sealevel.shape[0]:\n",
    "        stop = points_above_sealevel.shape[0]-1\n",
    "    "
   ]
  },
  {
   "cell_type": "markdown",
   "metadata": {
    "scrolled": true
   },
   "source": [
    "## Output\n",
    "\n",
    "Show some of the results:"
   ]
  },
  {
   "cell_type": "code",
   "execution_count": 9,
   "metadata": {},
   "outputs": [
    {
     "name": "stdout",
     "output_type": "stream",
     "text": [
      "[(1233, 61337505), (1232, 61724591), (1231, 57889317), (1230, 60903776), (1229, 57004828), (1228, 64623103), (1227, 63541893), (1226, 60051747), (1225, 63295727), (1224, 58647942), (1223, 66066340), (1222, 62483698), (1221, 57919376), (1220, 57585105), (1219, 65441707), (1218, 65128496), (1217, 59938628), (1216, 63510391), (1215, 57496759), (1214, 57969656), (1213, 65367376), (1212, 57369074), (1211, 61330194), (1210, 60232263), (1209, 69297839), (1208, 60617585), (1207, 61036617), (1206, 63090062), (1205, 60304364), (1204, 59389483), (1203, 61829417), (1202, 67019246), (1201, 55511454), (1200, 62120226), (1199, 66399861), (1198, 57799342), (1197, 61309103), (1196, 63300118), (1195, 55010626), (1194, 59679487), (1193, 56891619), (1192, 59230449), (1191, 67880306), (1190, 56480323), (1189, 60947831), (1188, 66433157), (1187, 56597869), (1186, 64412322), (1185, 63370058), (1184, 68961587), (1183, 55386412), (1182, 67346831), (1181, 62361414), (1180, 64901588), (1179, 62655951), (1178, 58215164), (1177, 69729764), (1176, 59592693), (1175, 66648699), (1174, 63345493), (1173, 64399277), (1172, 68003202), (1171, 55250972), (1170, 59844381), (1169, 60273781), (1168, 65276353), (1167, 60251147), (1166, 56482202), (1165, 61417870), (1164, 65555972), (1163, 59373716), (1162, 66877754), (1161, 65390034), (1160, 59862751), (1159, 58714393), (1158, 61108766), (1157, 67746599), (1156, 60048833), (1155, 52846052), (1154, 56818512), (1153, 66718063), (1152, 61896006), (1151, 59028545), (1150, 60130210), (1149, 64418433), (1148, 59708724), (1147, 66746062), (1146, 62838111), (1145, 58742316), (1144, 68886743), (1143, 57397901), (1142, 60425008), (1141, 65221098), (1140, 55494586), (1139, 61512905), (1138, 68149775), (1137, 59194071), (1136, 56781372), (1135, 67411264), (1134, 56156282)]\n"
     ]
    }
   ],
   "source": [
    "print all_costs[:100]"
   ]
  },
  {
   "cell_type": "code",
   "execution_count": null,
   "metadata": {},
   "outputs": [],
   "source": []
  }
 ],
 "metadata": {
  "kernelspec": {
   "display_name": "Python 2",
   "language": "python",
   "name": "python2"
  },
  "language_info": {
   "codemirror_mode": {
    "name": "ipython",
    "version": 2
   },
   "file_extension": ".py",
   "mimetype": "text/x-python",
   "name": "python",
   "nbconvert_exporter": "python",
   "pygments_lexer": "ipython2",
   "version": "2.7.12"
  }
 },
 "nbformat": 4,
 "nbformat_minor": 2
}
