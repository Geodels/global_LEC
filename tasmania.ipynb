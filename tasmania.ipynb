{
 "cells": [
  {
   "cell_type": "code",
   "execution_count": 1,
   "metadata": {},
   "outputs": [],
   "source": [
    "import meshio\n",
    "import numpy as np\n",
    "from multiprocessing import Pool\n",
    "import time\n",
    "\n",
    "from ugs import *"
   ]
  },
  {
   "cell_type": "code",
   "execution_count": 2,
   "metadata": {},
   "outputs": [],
   "source": [
    "infile = \"australia/data/TAS.vtk\"\n",
    "outfile = \"costed_tas.vtk\"\n",
    "mesh = meshio.read(infile)\n",
    "\n",
    "max_distance = 250000"
   ]
  },
  {
   "cell_type": "code",
   "execution_count": 3,
   "metadata": {},
   "outputs": [],
   "source": [
    "# We need to define a way to calculate cost\n",
    "@functools.lru_cache(maxsize=1048576)\n",
    "def distance_with_elevation_scaled(mesh, current, _next):\n",
    "    # The travel_cost can be any function, including just the distance.\n",
    "    # Here, we exagerate the elevation difference, to make changing elevation more costly\n",
    "    if current == _next:\n",
    "        return 0\n",
    "    \n",
    "    z_scaling = 100.  # 100. is a random number to pick, but has quite a big impact on the resulting paths.\n",
    "    \n",
    "    new_current = np.append(mesh.points[current][:2], mesh.point_data['Z'][current] * z_scaling)\n",
    "    new_next    = np.append(mesh.points[_next][:2],   mesh.point_data['Z'][_next]   * z_scaling)\n",
    "    \n",
    "    return int(np.linalg.norm(new_current - new_next))  # return as Int, just for niceness"
   ]
  },
  {
   "cell_type": "code",
   "execution_count": 4,
   "metadata": {},
   "outputs": [],
   "source": [
    "# We need to define a way to calculate cost\n",
    "@functools.lru_cache(maxsize=1048576)\n",
    "def elevation_only(mesh, current, _next):\n",
    "    # Only take into account elevation changes for costs\n",
    "    if current == _next:\n",
    "        return 0\n",
    "    return int(abs(mesh.point_data['Z'][current] - mesh.point_data['Z'][_next]))"
   ]
  },
  {
   "cell_type": "code",
   "execution_count": 5,
   "metadata": {},
   "outputs": [],
   "source": [
    "# Choose which cost function you want\n",
    "travel_cost = elevation_only"
   ]
  },
  {
   "cell_type": "markdown",
   "metadata": {},
   "source": [
    "## Prepare for parallel execution\n",
    "\n",
    "We want to use a parallel map function to calculate the cost for all points. We can make this easier by 'baking in' the parameters of a function we know, and leave only the `starting point` as a variable."
   ]
  },
  {
   "cell_type": "code",
   "execution_count": 6,
   "metadata": {},
   "outputs": [],
   "source": [
    "from functools import partial\n",
    "\n",
    "# We bake in the mesh and travel_cost function into the get_from_point function\n",
    "get_from_point_in_mesh = partial(get_from_point, mesh = mesh, travel_cost_function = travel_cost, max_distance = max_distance)"
   ]
  },
  {
   "cell_type": "code",
   "execution_count": 7,
   "metadata": {},
   "outputs": [
    {
     "name": "stdout",
     "output_type": "stream",
     "text": [
      "(2087, 0)\n"
     ]
    }
   ],
   "source": [
    "# Now we can use the get_from_point function with only a point ID as a parameter, by going via the new get_from_point_in_mesh function\n",
    "# Here we do a test, and see the output format: (point, total cost of all paths to that point)\n",
    "print(get_from_point_in_mesh(2087))"
   ]
  },
  {
   "cell_type": "markdown",
   "metadata": {},
   "source": [
    "## Prepare input data\n",
    "\n",
    "We don't want to calculate the LEC of a point below sea-level, so here we find all the points above sea-level, so they can be used as starting points."
   ]
  },
  {
   "cell_type": "code",
   "execution_count": 9,
   "metadata": {},
   "outputs": [],
   "source": [
    "points_above_sealevel = np.nonzero(mesh.point_data['Z'] >= 0)[0][::-1]"
   ]
  },
  {
   "cell_type": "code",
   "execution_count": 10,
   "metadata": {},
   "outputs": [
    {
     "name": "stdout",
     "output_type": "stream",
     "text": [
      "Total starting points available:  1093\n"
     ]
    }
   ],
   "source": [
    "print(\"Total starting points available: \", points_above_sealevel.shape[0])"
   ]
  },
  {
   "cell_type": "code",
   "execution_count": 11,
   "metadata": {
    "scrolled": false
   },
   "outputs": [
    {
     "name": "stdout",
     "output_type": "stream",
     "text": [
      "From  0  to  1093  took  352.0361285209656 seconds, starting with point 1233 . Percent complete:  100.0\n"
     ]
    }
   ],
   "source": [
    "# Output data variables\n",
    "all_costs = []\n",
    "mesh.point_data['cost'] = np.zeros_like(mesh.point_data['Z'])\n",
    "\n",
    "# For parallel execution, we chunk the data up into increments (inc), so we can monitor the progress\n",
    "start = 0\n",
    "inc = 200\n",
    "stop = inc\n",
    "\n",
    "# Run on 11 CPUs\n",
    "p = Pool(6)\n",
    "\n",
    "while start <  points_above_sealevel.shape[0]-1:\n",
    "    start_time = time.time()\n",
    "    # Here we use a parallel map function to send out the chunk across the CPUs in the Pool\n",
    "    costs = p.map(get_from_point_in_mesh, points_above_sealevel[start:stop])\n",
    "    print(\"From \", start, \" to \", stop, \" took \", time.time() - start_time, \"seconds, starting with point\", points_above_sealevel[start], \". Percent complete: \", 100*(float(stop)/points_above_sealevel.shape[0]))\n",
    "    # Save the data\n",
    "    all_costs.extend(costs)\n",
    "    \n",
    "    # Write out data progressively, so we can see progress in Paraview\n",
    "    for i in all_costs:\n",
    "        mesh.point_data['cost'][i[0]] = i[1]\n",
    "    meshio.write(outfile, mesh)\n",
    "    \n",
    "    # move to the next chunk of data\n",
    "    start += inc\n",
    "    stop += inc\n",
    "    if stop >= points_above_sealevel.shape[0]:\n",
    "        stop = points_above_sealevel.shape[0]-1\n",
    "    "
   ]
  },
  {
   "cell_type": "markdown",
   "metadata": {
    "scrolled": true
   },
   "source": [
    "## Output\n",
    "\n",
    "Show some of the results:"
   ]
  },
  {
   "cell_type": "code",
   "execution_count": 12,
   "metadata": {},
   "outputs": [
    {
     "name": "stdout",
     "output_type": "stream",
     "text": [
      "[(1233, 388546), (1232, 396033), (1231, 366848), (1230, 275144), (1229, 351601), (1228, 403732), (1227, 370973), (1226, 309370), (1225, 314897), (1224, 362415), (1223, 338362), (1222, 385760), (1221, 366955), (1220, 361125), (1219, 378063), (1218, 376485), (1217, 299097), (1216, 386183), (1215, 323881), (1214, 293327), (1213, 424314), (1212, 318023), (1211, 279148), (1210, 320421), (1209, 409621), (1208, 371290), (1207, 390943), (1206, 337262), (1205, 363440), (1204, 316439), (1203, 328847), (1202, 350940), (1201, 277293), (1200, 413668), (1199, 347367), (1198, 281646), (1197, 259260), (1196, 391765), (1195, 208224), (1194, 348554), (1193, 285698), (1192, 318832), (1191, 294011), (1190, 355852), (1189, 316082), (1188, 464904), (1187, 353228), (1186, 393963), (1185, 384489), (1184, 375009), (1183, 242491), (1182, 311374), (1181, 246675), (1180, 431749), (1179, 318995), (1178, 355958), (1177, 412989), (1176, 209451), (1175, 426113), (1174, 365660), (1173, 386324), (1172, 349338), (1171, 282507), (1170, 341879), (1169, 350663), (1168, 367486), (1167, 366471), (1166, 281216), (1165, 346218), (1164, 407375), (1163, 291101), (1162, 341366), (1161, 410439), (1160, 361756), (1159, 355190), (1158, 398799), (1157, 435165), (1156, 361566), (1155, 239801), (1154, 351272), (1153, 425540), (1152, 404200), (1151, 325785), (1150, 310329), (1149, 400804), (1148, 350153), (1147, 315320), (1146, 364111), (1145, 315888), (1144, 423628), (1143, 336870), (1142, 242043), (1141, 443610), (1140, 194198), (1139, 403674), (1138, 411948), (1137, 303028), (1136, 296566), (1135, 420145), (1134, 301957)]\n"
     ]
    }
   ],
   "source": [
    "print(all_costs[:100])"
   ]
  },
  {
   "cell_type": "markdown",
   "metadata": {},
   "source": [
    "# LRU cache impact\n",
    "\n",
    "## With an LRU cache maxisze of 1\n",
    "`From  0  to  1093  took  179.5063943862915 seconds, starting with point 1233 . Percent complete:  100.0`\n",
    "## With an LRU cache maxisze of 1000000\n",
    "`From  0  to  1093  took  352.0361285209656 seconds, starting with point 1233 . Percent complete:  100.0`"
   ]
  },
  {
   "cell_type": "code",
   "execution_count": null,
   "metadata": {},
   "outputs": [],
   "source": []
  }
 ],
 "metadata": {
  "kernelspec": {
   "display_name": "Python 3",
   "language": "python",
   "name": "python3"
  },
  "language_info": {
   "codemirror_mode": {
    "name": "ipython",
    "version": 3
   },
   "file_extension": ".py",
   "mimetype": "text/x-python",
   "name": "python",
   "nbconvert_exporter": "python",
   "pygments_lexer": "ipython3",
   "version": "3.5.3"
  }
 },
 "nbformat": 4,
 "nbformat_minor": 2
}
