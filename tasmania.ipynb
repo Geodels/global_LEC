{
 "cells": [
  {
   "cell_type": "code",
   "execution_count": 1,
   "metadata": {},
   "outputs": [],
   "source": [
    "import meshio\n",
    "import numpy as np\n",
    "from multiprocessing import Pool\n",
    "import time\n",
    "\n",
    "from ugs import *"
   ]
  },
  {
   "cell_type": "code",
   "execution_count": 2,
   "metadata": {},
   "outputs": [],
   "source": [
    "infile = \"australia/data/TAS.vtk\"\n",
    "outfile = \"costed_tas.vtk\"\n",
    "mesh = meshio.read(infile)\n",
    "\n",
    "max_distance = 250000"
   ]
  },
  {
   "cell_type": "code",
   "execution_count": 3,
   "metadata": {},
   "outputs": [],
   "source": [
    "# We need to define a way to calculate cost\n",
    "def distance_with_elevation_scaled(mesh, current, _next):\n",
    "    # The travel_cost can be any function, including just the distance.\n",
    "    # Here, we exagerate the elevation difference, to make changing elevation more costly\n",
    "    if current == _next:\n",
    "        return 0\n",
    "    \n",
    "    z_scaling = 100.  # 100. is a random number to pick, but has quite a big impact on the resulting paths.\n",
    "    \n",
    "    new_current = np.append(mesh.points[current][:2], mesh.point_data['Z'][current] * z_scaling)\n",
    "    new_next    = np.append(mesh.points[_next][:2],   mesh.point_data['Z'][_next]   * z_scaling)\n",
    "    \n",
    "    return int(np.linalg.norm(new_current - new_next))  # return as Int, just for niceness"
   ]
  },
  {
   "cell_type": "code",
   "execution_count": 4,
   "metadata": {},
   "outputs": [],
   "source": [
    "# We need to define a way to calculate cost\n",
    "def elevation_only(mesh, current, _next):\n",
    "    # Only take into account elevation changes for costs\n",
    "    if current == _next:\n",
    "        return 0\n",
    "    return int(abs(mesh.point_data['Z'][current] - mesh.point_data['Z'][_next]))"
   ]
  },
  {
   "cell_type": "code",
   "execution_count": 5,
   "metadata": {},
   "outputs": [],
   "source": [
    "# Choose which cost function you want\n",
    "travel_cost = elevation_only"
   ]
  },
  {
   "cell_type": "markdown",
   "metadata": {},
   "source": [
    "## Prepare for parallel execution\n",
    "\n",
    "We want to use a parallel map function to calculate the cost for all points. We can make this easier by 'baking in' the parameters of a function we know, and leave only the `starting point` as a variable."
   ]
  },
  {
   "cell_type": "code",
   "execution_count": 6,
   "metadata": {},
   "outputs": [],
   "source": [
    "from functools import partial\n",
    "\n",
    "# We bake in the mesh and travel_cost function into the get_from_point function\n",
    "get_from_point_in_mesh = partial(get_from_point, mesh = mesh, travel_cost_function = travel_cost, max_distance = max_distance)"
   ]
  },
  {
   "cell_type": "code",
   "execution_count": 7,
   "metadata": {},
   "outputs": [
    {
     "name": "stdout",
     "output_type": "stream",
     "text": [
      "(2087, 0)\n"
     ]
    }
   ],
   "source": [
    "# Now we can use the get_from_point function with only a point ID as a parameter, by going via the new get_from_point_in_mesh function\n",
    "# Here we do a test, and see the output format: (point, total cost of all paths to that point)\n",
    "print get_from_point_in_mesh(2087)"
   ]
  },
  {
   "cell_type": "markdown",
   "metadata": {},
   "source": [
    "## Prepare input data\n",
    "\n",
    "We don't want to calculate the LEC of a point below sea-level, so here we find all the points above sea-level, so they can be used as starting points."
   ]
  },
  {
   "cell_type": "code",
   "execution_count": 8,
   "metadata": {},
   "outputs": [],
   "source": [
    "points_above_sealevel = np.nonzero(mesh.point_data['Z'] >= 0)[0][::-1]"
   ]
  },
  {
   "cell_type": "code",
   "execution_count": 9,
   "metadata": {},
   "outputs": [
    {
     "name": "stdout",
     "output_type": "stream",
     "text": [
      "Total starting points available:  1093\n"
     ]
    }
   ],
   "source": [
    "print \"Total starting points available: \", points_above_sealevel.shape[0]"
   ]
  },
  {
   "cell_type": "code",
   "execution_count": 10,
   "metadata": {
    "scrolled": false
   },
   "outputs": [
    {
     "name": "stdout",
     "output_type": "stream",
     "text": [
      "From  0  to  20  took  9.98512101173 seconds, starting with point 1233 . Percent complete:  1.82982616651\n",
      "From  20  to  40  took  10.0382170677 seconds, starting with point 1213 . Percent complete:  3.65965233303\n",
      "From  40  to  60  took  9.67415809631 seconds, starting with point 1193 . Percent complete:  5.48947849954\n",
      "From  60  to  80  took  10.7793879509 seconds, starting with point 1173 . Percent complete:  7.31930466606\n",
      "From  80  to  100  took  10.4273090363 seconds, starting with point 1153 . Percent complete:  9.14913083257\n",
      "From  100  to  120  took  11.0058629513 seconds, starting with point 1133 . Percent complete:  10.9789569991\n",
      "From  120  to  140  took  12.1388838291 seconds, starting with point 1113 . Percent complete:  12.8087831656\n",
      "From  140  to  160  took  12.1270780563 seconds, starting with point 1093 . Percent complete:  14.6386093321\n",
      "From  160  to  180  took  9.01535081863 seconds, starting with point 1073 . Percent complete:  16.4684354986\n",
      "From  180  to  200  took  13.7976229191 seconds, starting with point 1053 . Percent complete:  18.2982616651\n",
      "From  200  to  220  took  13.5287771225 seconds, starting with point 1033 . Percent complete:  20.1280878317\n",
      "From  220  to  240  took  12.2231729031 seconds, starting with point 1013 . Percent complete:  21.9579139982\n",
      "From  240  to  260  took  7.94329214096 seconds, starting with point 993 . Percent complete:  23.7877401647\n",
      "From  260  to  280  took  3.90392112732 seconds, starting with point 972 . Percent complete:  25.6175663312\n",
      "From  280  to  300  took  4.09275698662 seconds, starting with point 952 . Percent complete:  27.4473924977\n",
      "From  300  to  320  took  4.14211988449 seconds, starting with point 932 . Percent complete:  29.2772186642\n",
      "From  320  to  340  took  5.01645302773 seconds, starting with point 910 . Percent complete:  31.1070448307\n",
      "From  340  to  360  took  3.37484407425 seconds, starting with point 890 . Percent complete:  32.9368709973\n",
      "From  360  to  380  took  3.59483003616 seconds, starting with point 869 . Percent complete:  34.7666971638\n",
      "From  380  to  400  took  3.77352499962 seconds, starting with point 849 . Percent complete:  36.5965233303\n",
      "From  400  to  420  took  4.60245585442 seconds, starting with point 829 . Percent complete:  38.4263494968\n",
      "From  420  to  440  took  5.40776610374 seconds, starting with point 808 . Percent complete:  40.2561756633\n",
      "From  440  to  460  took  4.36896395683 seconds, starting with point 787 . Percent complete:  42.0860018298\n",
      "From  460  to  480  took  3.85607194901 seconds, starting with point 765 . Percent complete:  43.9158279963\n",
      "From  480  to  500  took  4.12439513206 seconds, starting with point 744 . Percent complete:  45.7456541629\n",
      "From  500  to  520  took  3.84422898293 seconds, starting with point 723 . Percent complete:  47.5754803294\n",
      "From  520  to  540  took  5.16770291328 seconds, starting with point 703 . Percent complete:  49.4053064959\n",
      "From  540  to  560  took  2.89741492271 seconds, starting with point 683 . Percent complete:  51.2351326624\n",
      "From  560  to  580  took  4.19670605659 seconds, starting with point 662 . Percent complete:  53.0649588289\n",
      "From  580  to  600  took  3.22565293312 seconds, starting with point 641 . Percent complete:  54.8947849954\n",
      "From  600  to  620  took  3.93463301659 seconds, starting with point 620 . Percent complete:  56.7246111619\n",
      "From  620  to  640  took  4.01894783974 seconds, starting with point 599 . Percent complete:  58.5544373285\n",
      "From  640  to  660  took  4.8848388195 seconds, starting with point 578 . Percent complete:  60.384263495\n",
      "From  660  to  680  took  3.61452698708 seconds, starting with point 557 . Percent complete:  62.2140896615\n",
      "From  680  to  700  took  4.58188199997 seconds, starting with point 536 . Percent complete:  64.043915828\n",
      "From  700  to  720  took  3.49064803123 seconds, starting with point 515 . Percent complete:  65.8737419945\n",
      "From  720  to  740  took  3.9773170948 seconds, starting with point 495 . Percent complete:  67.703568161\n",
      "From  740  to  760  took  4.57557296753 seconds, starting with point 475 . Percent complete:  69.5333943275\n",
      "From  760  to  780  took  3.803139925 seconds, starting with point 455 . Percent complete:  71.3632204941\n",
      "From  780  to  800  took  4.05262207985 seconds, starting with point 435 . Percent complete:  73.1930466606\n",
      "From  800  to  820  took  4.24309206009 seconds, starting with point 415 . Percent complete:  75.0228728271\n",
      "From  820  to  840  took  3.85872292519 seconds, starting with point 394 . Percent complete:  76.8526989936\n",
      "From  840  to  860  took  4.33318090439 seconds, starting with point 374 . Percent complete:  78.6825251601\n",
      "From  860  to  880  took  3.53362703323 seconds, starting with point 353 . Percent complete:  80.5123513266\n",
      "From  880  to  900  took  3.91403007507 seconds, starting with point 331 . Percent complete:  82.3421774931\n",
      "From  900  to  920  took  3.64578294754 seconds, starting with point 311 . Percent complete:  84.1720036597\n",
      "From  920  to  940  took  5.17190098763 seconds, starting with point 291 . Percent complete:  86.0018298262\n",
      "From  940  to  960  took  4.11955404282 seconds, starting with point 271 . Percent complete:  87.8316559927\n",
      "From  960  to  980  took  3.84893989563 seconds, starting with point 251 . Percent complete:  89.6614821592\n",
      "From  980  to  1000  took  4.12445878983 seconds, starting with point 231 . Percent complete:  91.4913083257\n",
      "From  1000  to  1020  took  4.27224302292 seconds, starting with point 211 . Percent complete:  93.3211344922\n",
      "From  1020  to  1040  took  3.25352597237 seconds, starting with point 190 . Percent complete:  95.1509606587\n",
      "From  1040  to  1060  took  5.47222781181 seconds, starting with point 170 . Percent complete:  96.9807868253\n",
      "From  1060  to  1080  took  5.0282740593 seconds, starting with point 150 . Percent complete:  98.8106129918\n",
      "From  1080  to  1092  took  1.94294810295 seconds, starting with point 130 . Percent complete:  99.9085086917\n"
     ]
    }
   ],
   "source": [
    "# Output data variables\n",
    "all_costs = []\n",
    "mesh.point_data['cost'] = np.zeros_like(mesh.point_data['Z'])\n",
    "\n",
    "# For parallel execution, we chunk the data up into increments (inc), so we can monitor the progress\n",
    "start = 0\n",
    "inc = 20\n",
    "stop = inc\n",
    "\n",
    "# Run on 11 CPUs\n",
    "p = Pool(11)\n",
    "\n",
    "while start <  points_above_sealevel.shape[0]-1:\n",
    "    start_time = time.time()\n",
    "    # Here we use a parallel map function to send out the chunk across the CPUs in the Pool\n",
    "    costs = p.map(get_from_point_in_mesh, points_above_sealevel[start:stop])\n",
    "    print \"From \", start, \" to \", stop, \" took \", time.time() - start_time, \"seconds, starting with point\", points_above_sealevel[start], \". Percent complete: \", 100*(float(stop)/points_above_sealevel.shape[0])\n",
    "    \n",
    "    # Save the data\n",
    "    all_costs.extend(costs)\n",
    "    \n",
    "    # Write out data progressively, so we can see progress in Paraview\n",
    "    for i in all_costs:\n",
    "        mesh.point_data['cost'][i[0]] = i[1]\n",
    "    meshio.write(outfile, mesh)\n",
    "    \n",
    "    # move to the next chunk of data\n",
    "    start += inc\n",
    "    stop += inc\n",
    "    if stop >= points_above_sealevel.shape[0]:\n",
    "        stop = points_above_sealevel.shape[0]-1\n",
    "    "
   ]
  },
  {
   "cell_type": "markdown",
   "metadata": {
    "scrolled": true
   },
   "source": [
    "## Output\n",
    "\n",
    "Show some of the results:"
   ]
  },
  {
   "cell_type": "code",
   "execution_count": 11,
   "metadata": {},
   "outputs": [
    {
     "name": "stdout",
     "output_type": "stream",
     "text": [
      "[(1233, 388546), (1232, 396033), (1231, 366848), (1230, 275144), (1229, 351601), (1228, 403732), (1227, 370973), (1226, 309370), (1225, 314897), (1224, 362415), (1223, 338362), (1222, 385760), (1221, 366955), (1220, 361125), (1219, 378063), (1218, 376485), (1217, 299097), (1216, 386183), (1215, 323881), (1214, 293327), (1213, 424314), (1212, 318023), (1211, 279148), (1210, 320421), (1209, 409621), (1208, 371290), (1207, 390943), (1206, 337262), (1205, 363440), (1204, 316439), (1203, 328847), (1202, 350940), (1201, 277293), (1200, 413668), (1199, 347367), (1198, 281646), (1197, 259260), (1196, 391765), (1195, 208224), (1194, 348554), (1193, 285698), (1192, 318832), (1191, 294011), (1190, 355852), (1189, 316082), (1188, 464904), (1187, 353228), (1186, 393963), (1185, 384489), (1184, 375009), (1183, 242491), (1182, 311374), (1181, 246675), (1180, 431749), (1179, 318995), (1178, 355958), (1177, 412989), (1176, 209451), (1175, 426113), (1174, 365660), (1173, 386324), (1172, 349338), (1171, 282507), (1170, 341879), (1169, 350663), (1168, 367486), (1167, 366471), (1166, 281216), (1165, 346218), (1164, 407375), (1163, 291101), (1162, 341366), (1161, 410439), (1160, 361756), (1159, 355190), (1158, 398799), (1157, 435165), (1156, 361566), (1155, 239801), (1154, 351272), (1153, 425540), (1152, 404200), (1151, 325785), (1150, 310329), (1149, 400804), (1148, 350153), (1147, 315320), (1146, 364111), (1145, 315888), (1144, 423628), (1143, 336870), (1142, 242043), (1141, 443610), (1140, 194198), (1139, 403674), (1138, 411948), (1137, 303028), (1136, 296566), (1135, 420145), (1134, 301957)]\n"
     ]
    }
   ],
   "source": [
    "print all_costs[:100]"
   ]
  },
  {
   "cell_type": "code",
   "execution_count": null,
   "metadata": {},
   "outputs": [],
   "source": []
  }
 ],
 "metadata": {
  "kernelspec": {
   "display_name": "Python 2",
   "language": "python",
   "name": "python2"
  },
  "language_info": {
   "codemirror_mode": {
    "name": "ipython",
    "version": 2
   },
   "file_extension": ".py",
   "mimetype": "text/x-python",
   "name": "python",
   "nbconvert_exporter": "python",
   "pygments_lexer": "ipython2",
   "version": "2.7.12"
  }
 },
 "nbformat": 4,
 "nbformat_minor": 2
}
