{
 "cells": [
  {
   "cell_type": "code",
   "execution_count": 1,
   "metadata": {},
   "outputs": [],
   "source": [
    "import meshio\n",
    "import numpy as np\n",
    "from multiprocessing import Pool\n",
    "import time\n",
    "\n",
    "from ugs import *"
   ]
  },
  {
   "cell_type": "code",
   "execution_count": 2,
   "metadata": {},
   "outputs": [],
   "source": [
    "infile = \"australia/data/AUS.vtk\"\n",
    "mesh = meshio.read(infile)\n",
    "\n",
    "max_distance = 75000"
   ]
  },
  {
   "cell_type": "code",
   "execution_count": 3,
   "metadata": {},
   "outputs": [],
   "source": [
    "# We need to define a way to calculate cost\n",
    "def travel_cost(mesh, current, _next):\n",
    "    # The travel_cost can be any function, including just the distance.\n",
    "    # Here, we exagerate the elevation difference, to make changing elevation more costly\n",
    "    if current == _next:\n",
    "        return 0\n",
    "    \n",
    "    z_scaling = 100.\n",
    "    \n",
    "    new_current = np.append(mesh.points[current][:2], mesh.point_data['Z'][current] * z_scaling)\n",
    "    new_next    = np.append(mesh.points[_next][:2],   mesh.point_data['Z'][_next]   * z_scaling)\n",
    "    \n",
    "    return int(np.linalg.norm(new_current - new_next))  # return as Int, just for niceness"
   ]
  },
  {
   "cell_type": "markdown",
   "metadata": {},
   "source": [
    "## Prepare for parallel execution\n",
    "\n",
    "We want to use a parallel map function to calculate the cost for all points. We can make this easier by 'baking in' the parameters of a function we know, and leave only the `starting point` as a variable."
   ]
  },
  {
   "cell_type": "code",
   "execution_count": 4,
   "metadata": {},
   "outputs": [],
   "source": [
    "from functools import partial\n",
    "\n",
    "# We bake in the mesh and travel_cost function into the get_from_point function\n",
    "get_from_point_in_mesh = partial(get_from_point, mesh = mesh, travel_cost_function = travel_cost, max_distance = max_distance)"
   ]
  },
  {
   "cell_type": "code",
   "execution_count": null,
   "metadata": {},
   "outputs": [],
   "source": [
    "# Now we can use the get_from_point function with only a point ID as a parameter, by going via the new get_from_point_in_mesh function\n",
    "# Here we do a test, and see the output format: (point, total cost of all paths to that point)\n",
    "print get_from_point_in_mesh(2087)"
   ]
  },
  {
   "cell_type": "markdown",
   "metadata": {},
   "source": [
    "## Prepare input data\n",
    "\n",
    "We don't want to calculate the LEC of a point below sea-level, so here we find all the points above sea-level, so they can be used as starting points."
   ]
  },
  {
   "cell_type": "code",
   "execution_count": 6,
   "metadata": {},
   "outputs": [],
   "source": [
    "points_above_sealevel = np.nonzero(mesh.point_data['Z'] >= 0)[0][::-1]"
   ]
  },
  {
   "cell_type": "code",
   "execution_count": 7,
   "metadata": {},
   "outputs": [
    {
     "name": "stdout",
     "output_type": "stream",
     "text": [
      "Total starting points available:  138726\n"
     ]
    }
   ],
   "source": [
    "print \"Total starting points available: \", points_above_sealevel.shape[0]"
   ]
  },
  {
   "cell_type": "code",
   "execution_count": null,
   "metadata": {
    "scrolled": false
   },
   "outputs": [
    {
     "name": "stdout",
     "output_type": "stream",
     "text": [
      "From  0  to  200  took  98.9378960133 seconds, starting with point 183353\n",
      "From  200  to  400  took  102.309225798 seconds, starting with point 183153\n",
      "From  400  to  600  took  106.129104137 seconds, starting with point 182953\n",
      "From  600  to  800  took  106.374316931 seconds, starting with point 182753\n",
      "From  800  to  1000  took  96.2294859886 seconds, starting with point 182553\n",
      "From  1000  to  1200  took  92.492456913 seconds, starting with point 182353\n",
      "From  1200  to  1400  took  103.19611907 seconds, starting with point 182153\n",
      "From  1400  to  1600  took  98.0130019188 seconds, starting with point 181953\n",
      "From  1600  to  1800  took  100.892317057 seconds, starting with point 181753\n",
      "From  1800  to  2000  took  100.401367903 seconds, starting with point 181553\n",
      "From  2000  to  2200  took  102.748775959 seconds, starting with point 181353\n",
      "From  2200  to  2400  took  103.807703018 seconds, starting with point 181153\n",
      "From  2400  to  2600  took  111.594316006 seconds, starting with point 180953\n",
      "From  2600  to  2800  took  108.213042021 seconds, starting with point 180753\n",
      "From  2800  to  3000  took  103.799527884 seconds, starting with point 180553\n",
      "From  3000  to  3200  took  107.368684053 seconds, starting with point 180353\n",
      "From  3200  to  3400  took  123.072636127 seconds, starting with point 180153\n",
      "From  3400  to  3600  took  136.446253061 seconds, starting with point 179923\n",
      "From  3600  to  3800  took  134.007795811 seconds, starting with point 179649\n",
      "From  3800  to  4000  took  152.696737051 seconds, starting with point 179378\n",
      "From  4000  to  4200  took  146.946996212 seconds, starting with point 179098\n"
     ]
    }
   ],
   "source": [
    "# Output data variables\n",
    "all_costs = []\n",
    "mesh.point_data['cost'] = np.zeros_like(mesh.point_data['Z'])\n",
    "\n",
    "# For parallel execution, we chunk the data up into increments (inc), so we can monitor the progress\n",
    "start = 0\n",
    "inc = 200\n",
    "stop = inc\n",
    "\n",
    "# Run on 11 CPUs\n",
    "p = Pool(11)\n",
    "\n",
    "while start + inc <  points_above_sealevel.shape[0]:\n",
    "    start_time = time.time()\n",
    "    costs = p.map(get_from_point_in_mesh, points_above_sealevel[start:stop])\n",
    "    print \"From \", start, \" to \", stop, \" took \", time.time() - start_time, \"seconds, starting with point\", points_above_sealevel[start]\n",
    "    \n",
    "    # Save the data\n",
    "    all_costs.extend(costs)\n",
    "    \n",
    "    # Write out data progressively, so we can see progress in Paraview\n",
    "    for i in all_costs:\n",
    "        mesh.point_data['cost'][i[0]] = i[1]\n",
    "    meshio.write(\"costed_aus.vtk\", mesh)\n",
    "    \n",
    "    # move to the next chunk of data\n",
    "    start += inc\n",
    "    stop += inc\n",
    "    \n",
    "# If there are any points left over, process them now (this is just a hack, I should fix up the while loop to deal with them)    \n",
    "start_time = time.time()\n",
    "costs = p.map(get_from_point_in_mesh, points_above_sealevel[start:])\n",
    "print \"From \", start, \" to the end took \", time.time() - start_time, \"seconds\"\n",
    "all_costs.extend(costs)\n",
    "for i in all_costs:\n",
    "    mesh.point_data['cost'][i[0]] = i[1]\n",
    "meshio.write(\"costed_aus.vtk\", mesh)"
   ]
  },
  {
   "cell_type": "markdown",
   "metadata": {
    "scrolled": true
   },
   "source": [
    "## Output\n",
    "\n",
    "Show some of the results:"
   ]
  },
  {
   "cell_type": "code",
   "execution_count": null,
   "metadata": {},
   "outputs": [],
   "source": [
    "print all_costs[:100]"
   ]
  },
  {
   "cell_type": "code",
   "execution_count": null,
   "metadata": {},
   "outputs": [],
   "source": []
  }
 ],
 "metadata": {
  "kernelspec": {
   "display_name": "Python 2",
   "language": "python",
   "name": "python2"
  },
  "language_info": {
   "codemirror_mode": {
    "name": "ipython",
    "version": 2
   },
   "file_extension": ".py",
   "mimetype": "text/x-python",
   "name": "python",
   "nbconvert_exporter": "python",
   "pygments_lexer": "ipython2",
   "version": "2.7.12"
  }
 },
 "nbformat": 4,
 "nbformat_minor": 2
}
