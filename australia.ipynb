{
 "cells": [
  {
   "cell_type": "code",
   "execution_count": 1,
   "metadata": {},
   "outputs": [],
   "source": [
    "import meshio\n",
    "import numpy as np\n",
    "from multiprocessing import Pool\n",
    "import time\n",
    "\n",
    "from ugs import *"
   ]
  },
  {
   "cell_type": "code",
   "execution_count": 2,
   "metadata": {},
   "outputs": [],
   "source": [
    "infile = \"australia/data/AUS.vtk\"\n",
    "outfile = \"costed_aus.vtk\"\n",
    "mesh = meshio.read(infile)\n",
    "\n",
    "max_distance = 100000  # this is quite a small max_distance. \n",
    "                      # A smaller value means visiting far fewer nodes, so it speeds things up a lot"
   ]
  },
  {
   "cell_type": "code",
   "execution_count": 3,
   "metadata": {},
   "outputs": [],
   "source": [
    "# We need to define a way to calculate cost\n",
    "@functools.lru_cache(maxsize=1048576)\n",
    "def distance_with_elevation_scaled(mesh, current, _next):\n",
    "    # The travel_cost can be any function, including just the distance.\n",
    "    # Here, we exagerate the elevation difference, to make changing elevation more costly\n",
    "    if current == _next:\n",
    "        return 0\n",
    "    \n",
    "    z_scaling = 100.  # 100. is a random number to pick, but has quite a big impact on the resulting paths.\n",
    "    \n",
    "    new_current = np.append(mesh.points[current][:2], mesh.point_data['Z'][current] * z_scaling)\n",
    "    new_next    = np.append(mesh.points[_next][:2],   mesh.point_data['Z'][_next]   * z_scaling)\n",
    "    \n",
    "    return int(np.linalg.norm(new_current - new_next))  # return as Int, just for niceness"
   ]
  },
  {
   "cell_type": "code",
   "execution_count": 4,
   "metadata": {},
   "outputs": [],
   "source": [
    "# We need to define a way to calculate cost\n",
    "@functools.lru_cache(maxsize=1048576)\n",
    "def elevation_only(mesh, current, _next):\n",
    "    # Only take into account elevation changes for costs\n",
    "    if current == _next:\n",
    "        return 0\n",
    "    return int(abs(mesh.point_data['Z'][current] - mesh.point_data['Z'][_next]))"
   ]
  },
  {
   "cell_type": "code",
   "execution_count": 5,
   "metadata": {},
   "outputs": [],
   "source": [
    "# Choose which cost function you want\n",
    "travel_cost = elevation_only"
   ]
  },
  {
   "cell_type": "markdown",
   "metadata": {},
   "source": [
    "## Prepare for parallel execution\n",
    "\n",
    "We want to use a parallel map function to calculate the cost for all points. We can make this easier by 'baking in' the parameters of a function we know, and leave only the `starting point` as a variable."
   ]
  },
  {
   "cell_type": "code",
   "execution_count": 6,
   "metadata": {},
   "outputs": [],
   "source": [
    "from functools import partial\n",
    "\n",
    "# We bake in the mesh and travel_cost function into the get_from_point function\n",
    "get_from_point_in_mesh = partial(get_from_point, mesh = mesh, travel_cost_function = travel_cost, max_distance = max_distance)"
   ]
  },
  {
   "cell_type": "code",
   "execution_count": 7,
   "metadata": {},
   "outputs": [
    {
     "name": "stdout",
     "output_type": "stream",
     "text": [
      "(2087, 13334)\n"
     ]
    }
   ],
   "source": [
    "# Now we can use the get_from_point function with only a point ID as a parameter, by going via the new get_from_point_in_mesh function\n",
    "# Here we do a test, and see the output format: (point, total cost of all paths to that point)\n",
    "print(get_from_point_in_mesh(2087))"
   ]
  },
  {
   "cell_type": "markdown",
   "metadata": {},
   "source": [
    "## Prepare input data\n",
    "\n",
    "We don't want to calculate the LEC of a point below sea-level, so here we find all the points above sea-level, so they can be used as starting points."
   ]
  },
  {
   "cell_type": "code",
   "execution_count": 8,
   "metadata": {},
   "outputs": [],
   "source": [
    "points_above_sealevel = np.nonzero(mesh.point_data['Z'] >= 0)[0][::-1]"
   ]
  },
  {
   "cell_type": "code",
   "execution_count": 9,
   "metadata": {},
   "outputs": [
    {
     "name": "stdout",
     "output_type": "stream",
     "text": [
      "Total starting points available:  138726\n"
     ]
    }
   ],
   "source": [
    "print(\"Total starting points available: \", points_above_sealevel.shape[0])"
   ]
  },
  {
   "cell_type": "code",
   "execution_count": null,
   "metadata": {
    "scrolled": false
   },
   "outputs": [
    {
     "name": "stdout",
     "output_type": "stream",
     "text": [
      "From  0  to  500  took  406.31059074401855 seconds, starting with point 183353 . Percent complete:  0.3604227037469544\n",
      "From  500  to  1000  took  392.7191138267517 seconds, starting with point 182853 . Percent complete:  0.7208454074939088\n",
      "From  1000  to  1500  took  394.41108441352844 seconds, starting with point 182353 . Percent complete:  1.0812681112408633\n",
      "From  1500  to  2000  took  401.7102801799774 seconds, starting with point 181853 . Percent complete:  1.4416908149878176\n",
      "From  2000  to  2500  took  402.16271233558655 seconds, starting with point 181353 . Percent complete:  1.802113518734772\n",
      "From  2500  to  3000  took  418.55247259140015 seconds, starting with point 180853 . Percent complete:  2.1625362224817266\n",
      "From  3000  to  3500  took  455.5916340351105 seconds, starting with point 180353 . Percent complete:  2.522958926228681\n",
      "From  3500  to  4000  took  505.3703947067261 seconds, starting with point 179787 . Percent complete:  2.883381629975635\n",
      "From  4000  to  4500  took  526.3724365234375 seconds, starting with point 179098 . Percent complete:  3.24380433372259\n",
      "From  4500  to  5000  took  520.064478635788 seconds, starting with point 178447 . Percent complete:  3.604227037469544\n",
      "From  5000  to  5500  took  505.4282646179199 seconds, starting with point 177802 . Percent complete:  3.9646497412164985\n",
      "From  5500  to  6000  took  515.1498582363129 seconds, starting with point 177144 . Percent complete:  4.325072444963453\n",
      "From  6000  to  6500  took  495.76449966430664 seconds, starting with point 176479 . Percent complete:  4.685495148710408\n"
     ]
    }
   ],
   "source": [
    "# Output data variables\n",
    "all_costs = []\n",
    "mesh.point_data['cost'] = np.zeros_like(mesh.point_data['Z'])\n",
    "\n",
    "# For parallel execution, we chunk the data up into increments (inc), so we can monitor the progress\n",
    "# Larger chunks may be better able to take advantage of the LRU caching, but can lead to some CPUs finishing their batch \n",
    "# much earlier, and they just wait around until the next chunk is loaded.\n",
    "start = 0\n",
    "inc = 500\n",
    "stop = inc\n",
    "\n",
    "# Run on 11 CPUs\n",
    "p = Pool(11)\n",
    "\n",
    "while start <  points_above_sealevel.shape[0]-1:\n",
    "    start_time = time.time()\n",
    "    # Here we use a parallel map function to send out the chunk across the CPUs in the Pool\n",
    "    costs = p.map(get_from_point_in_mesh, points_above_sealevel[start:stop])\n",
    "    print(\"From \", start, \" to \", stop, \" took \", time.time() - start_time, \"seconds, starting with point\", points_above_sealevel[start], \". Percent complete: \", 100*(float(stop)/points_above_sealevel.shape[0]))\n",
    "    \n",
    "    # Save the data\n",
    "    all_costs.extend(costs)\n",
    "    \n",
    "    # Write out data progressively, so we can see progress in Paraview\n",
    "    for i in all_costs:\n",
    "        mesh.point_data['cost'][i[0]] = i[1]\n",
    "    meshio.write(outfile, mesh)\n",
    "    \n",
    "    # move to the next chunk of data\n",
    "    start += inc\n",
    "    stop += inc\n",
    "    if stop >= points_above_sealevel.shape[0]:\n",
    "        stop = points_above_sealevel.shape[0]-1"
   ]
  },
  {
   "cell_type": "markdown",
   "metadata": {
    "scrolled": true
   },
   "source": [
    "## Output\n",
    "\n",
    "Show some of the results:"
   ]
  },
  {
   "cell_type": "code",
   "execution_count": null,
   "metadata": {},
   "outputs": [],
   "source": [
    "print all_costs[:100]"
   ]
  },
  {
   "cell_type": "code",
   "execution_count": null,
   "metadata": {},
   "outputs": [],
   "source": []
  }
 ],
 "metadata": {
  "kernelspec": {
   "display_name": "Python 3",
   "language": "python",
   "name": "python3"
  },
  "language_info": {
   "codemirror_mode": {
    "name": "ipython",
    "version": 3
   },
   "file_extension": ".py",
   "mimetype": "text/x-python",
   "name": "python",
   "nbconvert_exporter": "python",
   "pygments_lexer": "ipython3",
   "version": "3.5.3"
  }
 },
 "nbformat": 4,
 "nbformat_minor": 2
}
